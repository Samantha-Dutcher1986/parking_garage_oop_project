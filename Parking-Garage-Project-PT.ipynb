{
 "cells": [
  {
   "cell_type": "markdown",
   "metadata": {},
   "source": [
    "# Parking Garage Project\n",
    "\n",
    "Your assignment for today is to create a parking garage class to get more familiar with Object Oriented Programming(OOP). \n",
    "\n",
    "Your parking gargage class should have the following methods:\n",
    "- takeTicket\n",
    "   - This should decrease the amount of tickets available by 1\n",
    "   - This should decrease the amount of parkingSpaces available by 1\n",
    "- payForParking\n",
    "   - Display an input that waits for an amount from the user and store it in a variable\n",
    "   - If the payment variable is not empty then ->  display a message to the user that their ticket has been paid and they have 15mins to leave\n",
    "   - This should update the \"currentTicket\" dictionary key \"paid\" to True\n",
    "- leaveGarage\n",
    "   - If the ticket has been paid, display a message of \"Thank You, have a nice day\"\n",
    "   - If the ticket has not been paid, display an input prompt for payment\n",
    "      - Once paid, display message \"Thank you, have a nice day!\"\n",
    "   - Update parkingSpaces list to increase by 1\n",
    "   - Update tickets list to increase by 1\n",
    "\n",
    "You will need a few attributes as well:\n",
    "- tickets -> list\n",
    "- parkingSpaces -> list\n",
    "- currentTicket -> dictionary"
   ]
  },
  {
   "cell_type": "code",
   "execution_count": null,
   "metadata": {},
   "outputs": [],
   "source": [
    "#Start your code here...\n",
    "class parking_garage(object):\n",
    "    def __init__(self):\n",
    "        self.total = 0\n",
    "        self.ticket = dict()\n",
    "        \n",
    "    def pay_for_parking(self, cash_paid):\n",
    "        balance = 0\n",
    "        if cash_paid < self.total\n",
    "            return \"Please pay for your parking ticket.\"\n",
    "        balance = cash_paid - self.total\n",
    "        return balance\n",
    "        \n",
    "    \n",
    "    def take_ticket(self, ticket, spaces, pay):\n",
    "        self.total -= (quantity * price)\n",
    "        self.item = {ticket : quantity}\n",
    "        self.spaces = 10\n",
    "        try:\n",
    "            if quantity >= self.item:\n",
    "                self.item.pop(ticket, None)\n",
    "            self.item[ticket] -= quantity\n",
    "        except(KeyError, RuntimeError):\n",
    "            pass\n",
    "        \n",
    "    def leave_garage(self, cash_paid, spaces, ticket):\n",
    "        self.cash_paid = paid\n",
    "        self.spaces = {spaces: quantity}\n",
    "        self.item = {ticket : quantity}\n",
    "        if ticket and spaces != None and quantity >= 1:\n",
    "            self.item.update({ticket: quantity})\n",
    "        if quantity and price >= 1:\n",
    "            self.total += (quantity * cash_paid)\n",
    "        if cash_paid < self.total:\n",
    "            return \"Please pay the remaining balance for your ticket \"\n",
    "        else:\n",
    "            return \"Thank you, have a nice day!\"\n",
    "        \n",
    "class ticket(parking_garage):\n",
    "    def __init__(self):\n",
    "        self.quantity = 10\n",
    "    \n",
    "class spaces(parking_garage):\n",
    "    def __init__(self):\n",
    "        self.quantity = 10\n",
    "    \n",
    "parking_garage(object)"
   ]
  },
  {
   "cell_type": "code",
   "execution_count": null,
   "metadata": {},
   "outputs": [],
   "source": []
  }
 ],
 "metadata": {
  "kernelspec": {
   "display_name": "Python 3",
   "language": "python",
   "name": "python3"
  },
  "language_info": {
   "codemirror_mode": {
    "name": "ipython",
    "version": 3
   },
   "file_extension": ".py",
   "mimetype": "text/x-python",
   "name": "python",
   "nbconvert_exporter": "python",
   "pygments_lexer": "ipython3",
   "version": "3.8.5"
  }
 },
 "nbformat": 4,
 "nbformat_minor": 2
}
